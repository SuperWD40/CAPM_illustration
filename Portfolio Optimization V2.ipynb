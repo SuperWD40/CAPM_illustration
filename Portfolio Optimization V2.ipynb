{
 "cells": [
  {
   "cell_type": "code",
   "execution_count": 1,
   "id": "b50e88f3",
   "metadata": {},
   "outputs": [],
   "source": [
    "import numpy as np\n",
    "import yahoo_api as yapi\n",
    "import pandas as pd\n",
    "import statistics as st\n",
    "import timeit\n",
    "import matplotlib.pyplot as plt\n",
    "from scipy.stats import kurtosis\n",
    "from scipy.stats import skew"
   ]
  },
  {
   "cell_type": "code",
   "execution_count": 2,
   "id": "8c0d8d34",
   "metadata": {},
   "outputs": [],
   "source": [
    "def Weights_Computation(num_potfolio, min_asset, len_index):\n",
    "    # Create a 2d null matrix\n",
    "    null_matrix = np.zeros((num_potfolio, len_index))\n",
    "\n",
    "    # Create a matrix of random values\n",
    "    random_matrix = np.random.rand(num_potfolio * len(index))\n",
    "\n",
    "    # Replace randomly x of the 0s in each row of the null array with values from the random matrix\n",
    "    x = num_potfolio * avg_assets\n",
    "    indices = np.random.choice(len(null_matrix.ravel()), x, replace=True)\n",
    "    null_matrix.ravel()[indices] = random_matrix[indices]\n",
    "\n",
    "    # Normalize each row of the matrix so that the sum of each row is equal to 1\n",
    "    weight_matrix = null_matrix / np.sum(null_matrix, axis=1).reshape(-1,1)\n",
    "\n",
    "    #create a mask to select the rows with 0s higher than min_asset\n",
    "    mask = np.sum(weight_matrix != 0, axis=1) <= min_asset\n",
    "\n",
    "    #apply the mask to the weight_matrix and get the result\n",
    "    weight_matrix = weight_matrix[~mask]\n",
    "    return(weight_matrix)"
   ]
  },
  {
   "cell_type": "code",
   "execution_count": 3,
   "id": "f7974b29",
   "metadata": {},
   "outputs": [],
   "source": [
    "def Returns_computation(weight_matrix,asset_returns_matrix):\n",
    "    # Multiply the weight matrix by the returns matrix to obtain portfolio's returns\n",
    "    returns_matrix = np.dot(weight_matrix, asset_returns_matrix)\n",
    "\n",
    "    # Computation of return of each portfolio\n",
    "    return_matrix = (1 + np.sum(returns_matrix,axis=1)) ** (255/len(returns_matrix[0])) - 1\n",
    "    return(returns_matrix, return_matrix)"
   ]
  },
  {
   "cell_type": "code",
   "execution_count": 4,
   "id": "48d00b86",
   "metadata": {},
   "outputs": [],
   "source": [
    "def Metrics_computation(returns_matrix, return_matrix, benchmark_returns, benchmark_return):\n",
    "    # Computation of the covariance of each portfolio with the benchmark\n",
    "    x = returns_matrix\n",
    "    y = benchmark_returns\n",
    "    n = len(benchmark_returns)\n",
    "    covariance_matrix = (np.sum(np.multiply(x,y), axis = 1) - n * np.mean(y) * np.mean(x, axis=1)) / (n-1)\n",
    "\n",
    "    # Computation of the beta of each portfolio\n",
    "    beta_matrix = covariance_matrix / st.variance(benchmark_returns)\n",
    "\n",
    "    # Computation of the alpha of each portfolio\n",
    "    alpha_matrix = return_matrix - (rf_rate + beta_matrix * (benchmark_return - rf_rate))\n",
    "    \n",
    "    # Computation of the expected return - CAPM - of each portfolio\n",
    "    capm_matrix = rf_rate + beta_matrix * (benchmark_return - rf_rate)\n",
    "    \n",
    "    return(beta_matrix, alpha_matrix, capm_matrix)"
   ]
  },
  {
   "cell_type": "code",
   "execution_count": 32,
   "id": "b3e8ab02",
   "metadata": {},
   "outputs": [],
   "source": [
    "def describe(matrix):\n",
    "    decimal = 3\n",
    "    count = len(matrix)\n",
    "    mean = round(np.nanmean(matrix), decimal)\n",
    "    min_ = round(min(matrix), decimal)\n",
    "    max_ = round(max(matrix), decimal)\n",
    "    std = round(np.nanstd(matrix), decimal)\n",
    "    first, median, third = [round(x, 3) for x in np.nanpercentile(matrix, [25, 50, 75])]\n",
    "    skewness = round(skew(matrix),decimal)\n",
    "    kurt = round(kurtosis(matrix),decimal)\n",
    "    df = pd.DataFrame(\n",
    "        data = (count,mean,std,min_,first,median,third,max_,skewness,kurt),\n",
    "        index = ('count', 'mean', 'std', 'min', '25%', '50%', '75%', 'max', 'skewness', 'kurtosis'),\n",
    "        columns = ['description']\n",
    "    )\n",
    "    return(df)"
   ]
  },
  {
   "cell_type": "code",
   "execution_count": 6,
   "id": "50d07517",
   "metadata": {},
   "outputs": [],
   "source": [
    "%store -r DOW_30\n",
    "# Set the list of asset's ticker of the study\n",
    "index = DOW_30\n",
    "\n",
    "# Set the benchmark of the study\n",
    "index_ticker = '^DJI'\n",
    "\n",
    "#Set the time period of the study\n",
    "timeperiod = '1y'\n",
    "\n",
    "# Set the annual risk free rate to alpha  \n",
    "rf_rate = 0.025\n",
    "\n",
    "# Set the number of trials of the monte carlo method\n",
    "num_potfolio = 3000000\n",
    "\n",
    "# Set the average number of assets by portfolio\n",
    "avg_assets = 20\n",
    "\n",
    "# Set the minimum number of assets by portfolio\n",
    "min_asset = 5"
   ]
  },
  {
   "cell_type": "code",
   "execution_count": 7,
   "id": "039996da",
   "metadata": {},
   "outputs": [
    {
     "name": "stdout",
     "output_type": "stream",
     "text": [
      "Elapsed: 49.9954 sec\n"
     ]
    }
   ],
   "source": [
    "start_time = timeit.default_timer()\n",
    "\n",
    "# Acquisition of asset's history studied\n",
    "assets_history = pd.DataFrame()\n",
    "name_dict = {}\n",
    "for ticker in index:\n",
    "    history = yapi.ticker(ticker).history(timeperiod)['Close']\n",
    "    name = yapi.ticker(ticker).info()['Name']\n",
    "    assets_history[ticker] = history\n",
    "    name_dict[name] = ticker\n",
    "assets_history = assets_history.transpose()\n",
    "\n",
    "# Acquisition of benchmark's history studied\n",
    "benchmark_history = np.array(yapi.ticker(index_ticker).history(timeperiod)['Close'])\n",
    "\n",
    "elapsed = timeit.default_timer() - start_time\n",
    "print(f'Elapsed: {round(elapsed,4)} sec')"
   ]
  },
  {
   "cell_type": "code",
   "execution_count": 8,
   "id": "50e14d7d",
   "metadata": {},
   "outputs": [],
   "source": [
    "# Computation of benchmark returns\n",
    "benchmark_returns = np.diff(benchmark_history) / benchmark_history[:-1]\n",
    "benchmark_return = (1 + np.sum(benchmark_returns)) ** (255/len(benchmark_returns)) - 1"
   ]
  },
  {
   "cell_type": "code",
   "execution_count": 9,
   "id": "479a9765",
   "metadata": {},
   "outputs": [
    {
     "name": "stdout",
     "output_type": "stream",
     "text": [
      "Elapsed: 0.0816 sec\n"
     ]
    }
   ],
   "source": [
    "start_time = timeit.default_timer()\n",
    "\n",
    "asset_metrics = []\n",
    "df_returns = pd.DataFrame()\n",
    "df_asset_metrics = pd.DataFrame()\n",
    "\n",
    "# Compute metrics -returns, beta, alpha- of each assets studied\n",
    "for history, ticker in zip(assets_history.values, assets_history.index):\n",
    "    asset_returns = np.diff(history) / history[:-1]\n",
    "    asset_return = (1 + np.sum(asset_returns)) ** (255/len(asset_returns)) - 1\n",
    "    asset_beta = np.cov(asset_returns, benchmark_returns)[0][1] / st.variance(benchmark_returns)\n",
    "    asset_alpha = asset_return - (rf_rate + asset_beta * (benchmark_return - rf_rate))\n",
    "    asset_capm = rf_rate + asset_beta * (benchmark_return - rf_rate)\n",
    "    \n",
    "    asset_metrics = [asset_return, asset_beta, asset_alpha,asset_capm]\n",
    "    df_asset_metrics[ticker] = asset_metrics\n",
    "    df_returns[ticker] = asset_returns\n",
    "\n",
    "df_asset_metrics = df_asset_metrics.transpose()\n",
    "df_asset_metrics.columns = ['Return', 'Beta', \"Jensen_Alpha\", 'CAPM_Return']\n",
    "    \n",
    "df_returns = df_returns.transpose()\n",
    "df_returns.columns = assets_history.columns[1:]\n",
    "assets_returns = df_returns.to_numpy()\n",
    "\n",
    "elapsed = timeit.default_timer() - start_time\n",
    "print(f'Elapsed: {round(elapsed,4)} sec')"
   ]
  },
  {
   "cell_type": "code",
   "execution_count": 10,
   "id": "b43452f2",
   "metadata": {},
   "outputs": [
    {
     "data": {
      "image/png": "[encoded data removed]",
      "text/plain": [
       "<Figure size 1008x864 with 1 Axes>"
      ]
     },
     "metadata": {
      "needs_background": "light"
     },
     "output_type": "display_data"
    }
   ],
   "source": [
    "plt.figure(figsize=(14,12))\n",
    "plt.scatter(df_asset_metrics.Beta, df_asset_metrics.Return, label='Annual average return') \n",
    "for asset, ticker in enumerate(df_asset_metrics.index):\n",
    "    plt.annotate(ticker, (df_asset_metrics.Beta[asset]+0.005, df_asset_metrics.Return[asset]))\n",
    "plt.title(\"Dow Jones 30 asset's metrics\")\n",
    "plt.scatter(df_asset_metrics.Beta, df_asset_metrics.CAPM_Return, label='Expected annual average return according to CAPM') \n",
    "for asset, ticker in enumerate(df_asset_metrics.index):\n",
    "    plt.annotate(ticker, (df_asset_metrics.Beta[asset]+0.005, df_asset_metrics.CAPM_Return[asset]))\n",
    "plt.title(\"Dow Jones 30 asset's metrics\")\n",
    "plt.xlabel('Beta') \n",
    "plt.ylabel('Annual Return') \n",
    "plt.legend() \n",
    "plt.show()"
   ]
  },
  {
   "cell_type": "code",
   "execution_count": 11,
   "id": "d8e60c29",
   "metadata": {},
   "outputs": [
    {
     "data": {
      "image/png": "[encoded data removed]",
      "text/plain": [
       "<Figure size 1008x720 with 1 Axes>"
      ]
     },
     "metadata": {
      "needs_background": "light"
     },
     "output_type": "display_data"
    }
   ],
   "source": [
    "plt.figure(figsize=(14,10))\n",
    "plt.scatter(df_asset_metrics.Beta, df_asset_metrics.Jensen_Alpha)\n",
    "for asset, ticker in enumerate(df_asset_metrics.index):\n",
    "    plt.annotate(ticker, (df_asset_metrics.Beta[asset]+0.005, df_asset_metrics.Jensen_Alpha[asset]))\n",
    "plt.title(\"Dow Jones 30 asset's metrics\")\n",
    "plt.xlabel('Beta')\n",
    "plt.ylabel(\"Jensen's Alpha\")\n",
    "plt.show()"
   ]
  },
  {
   "cell_type": "code",
   "execution_count": 12,
   "id": "e2e22267",
   "metadata": {},
   "outputs": [
    {
     "name": "stdout",
     "output_type": "stream",
     "text": [
      "Elapsed: 200.614 sec\n"
     ]
    }
   ],
   "source": [
    "start_time = timeit.default_timer()\n",
    "\n",
    "# Computation of Asset's weights of potrfolios\n",
    "weight_matrix = Weights_Computation(num_potfolio, min_asset, len(index))\n",
    "\n",
    "# Computation of portfolio's returns\n",
    "returns_matrix, return_matrix = Returns_computation(weight_matrix, assets_returns)\n",
    "\n",
    "# Computation of protfolio's metrics\n",
    "beta_matrix, alpha_matrix, capm_matrix = Metrics_computation(returns_matrix, return_matrix, benchmark_returns, benchmark_return)\n",
    "\n",
    "elapsed = timeit.default_timer() - start_time\n",
    "print(f'Elapsed: {round(elapsed,4)} sec')"
   ]
  },
  {
   "cell_type": "code",
   "execution_count": 36,
   "id": "66c87677",
   "metadata": {},
   "outputs": [
    {
     "data": {
      "text/html": [
       "<div>\n",
       "<style scoped>\n",
       "    .dataframe tbody tr th:only-of-type {\n",
       "        vertical-align: middle;\n",
       "    }\n",
       "\n",
       "    .dataframe tbody tr th {\n",
       "        vertical-align: top;\n",
       "    }\n",
       "\n",
       "    .dataframe thead th {\n",
       "        text-align: right;\n",
       "    }\n",
       "</style>\n",
       "<table border=\"1\" class=\"dataframe\">\n",
       "  <thead>\n",
       "    <tr style=\"text-align: right;\">\n",
       "      <th></th>\n",
       "      <th>description</th>\n",
       "    </tr>\n",
       "  </thead>\n",
       "  <tbody>\n",
       "    <tr>\n",
       "      <th>count</th>\n",
       "      <td>2999087.000</td>\n",
       "    </tr>\n",
       "    <tr>\n",
       "      <th>mean</th>\n",
       "      <td>0.018</td>\n",
       "    </tr>\n",
       "    <tr>\n",
       "      <th>std</th>\n",
       "      <td>0.053</td>\n",
       "    </tr>\n",
       "    <tr>\n",
       "      <th>min</th>\n",
       "      <td>-0.321</td>\n",
       "    </tr>\n",
       "    <tr>\n",
       "      <th>25%</th>\n",
       "      <td>-0.017</td>\n",
       "    </tr>\n",
       "    <tr>\n",
       "      <th>50%</th>\n",
       "      <td>0.017</td>\n",
       "    </tr>\n",
       "    <tr>\n",
       "      <th>75%</th>\n",
       "      <td>0.053</td>\n",
       "    </tr>\n",
       "    <tr>\n",
       "      <th>max</th>\n",
       "      <td>0.355</td>\n",
       "    </tr>\n",
       "    <tr>\n",
       "      <th>skewness</th>\n",
       "      <td>0.054</td>\n",
       "    </tr>\n",
       "    <tr>\n",
       "      <th>kurtosis</th>\n",
       "      <td>0.191</td>\n",
       "    </tr>\n",
       "  </tbody>\n",
       "</table>\n",
       "</div>"
      ],
      "text/plain": [
       "          description\n",
       "count     2999087.000\n",
       "mean            0.018\n",
       "std             0.053\n",
       "min            -0.321\n",
       "25%            -0.017\n",
       "50%             0.017\n",
       "75%             0.053\n",
       "max             0.355\n",
       "skewness        0.054\n",
       "kurtosis        0.191"
      ]
     },
     "execution_count": 36,
     "metadata": {},
     "output_type": "execute_result"
    }
   ],
   "source": [
    "describe(return_matrix)"
   ]
  },
  {
   "cell_type": "code",
   "execution_count": 33,
   "id": "22e5e990",
   "metadata": {},
   "outputs": [
    {
     "data": {
      "text/html": [
       "<div>\n",
       "<style scoped>\n",
       "    .dataframe tbody tr th:only-of-type {\n",
       "        vertical-align: middle;\n",
       "    }\n",
       "\n",
       "    .dataframe tbody tr th {\n",
       "        vertical-align: top;\n",
       "    }\n",
       "\n",
       "    .dataframe thead th {\n",
       "        text-align: right;\n",
       "    }\n",
       "</style>\n",
       "<table border=\"1\" class=\"dataframe\">\n",
       "  <thead>\n",
       "    <tr style=\"text-align: right;\">\n",
       "      <th></th>\n",
       "      <th>description</th>\n",
       "    </tr>\n",
       "  </thead>\n",
       "  <tbody>\n",
       "    <tr>\n",
       "      <th>count</th>\n",
       "      <td>2999087.000</td>\n",
       "    </tr>\n",
       "    <tr>\n",
       "      <th>mean</th>\n",
       "      <td>0.981</td>\n",
       "    </tr>\n",
       "    <tr>\n",
       "      <th>std</th>\n",
       "      <td>0.087</td>\n",
       "    </tr>\n",
       "    <tr>\n",
       "      <th>min</th>\n",
       "      <td>0.519</td>\n",
       "    </tr>\n",
       "    <tr>\n",
       "      <th>25%</th>\n",
       "      <td>0.923</td>\n",
       "    </tr>\n",
       "    <tr>\n",
       "      <th>50%</th>\n",
       "      <td>0.981</td>\n",
       "    </tr>\n",
       "    <tr>\n",
       "      <th>75%</th>\n",
       "      <td>1.039</td>\n",
       "    </tr>\n",
       "    <tr>\n",
       "      <th>max</th>\n",
       "      <td>1.449</td>\n",
       "    </tr>\n",
       "    <tr>\n",
       "      <th>skewness</th>\n",
       "      <td>0.041</td>\n",
       "    </tr>\n",
       "    <tr>\n",
       "      <th>kurtosis</th>\n",
       "      <td>0.152</td>\n",
       "    </tr>\n",
       "  </tbody>\n",
       "</table>\n",
       "</div>"
      ],
      "text/plain": [
       "          description\n",
       "count     2999087.000\n",
       "mean            0.981\n",
       "std             0.087\n",
       "min             0.519\n",
       "25%             0.923\n",
       "50%             0.981\n",
       "75%             1.039\n",
       "max             1.449\n",
       "skewness        0.041\n",
       "kurtosis        0.152"
      ]
     },
     "execution_count": 33,
     "metadata": {},
     "output_type": "execute_result"
    }
   ],
   "source": [
    "describe(beta_matrix)"
   ]
  },
  {
   "cell_type": "code",
   "execution_count": 35,
   "id": "832bee4a",
   "metadata": {},
   "outputs": [
    {
     "data": {
      "text/html": [
       "<div>\n",
       "<style scoped>\n",
       "    .dataframe tbody tr th:only-of-type {\n",
       "        vertical-align: middle;\n",
       "    }\n",
       "\n",
       "    .dataframe tbody tr th {\n",
       "        vertical-align: top;\n",
       "    }\n",
       "\n",
       "    .dataframe thead th {\n",
       "        text-align: right;\n",
       "    }\n",
       "</style>\n",
       "<table border=\"1\" class=\"dataframe\">\n",
       "  <thead>\n",
       "    <tr style=\"text-align: right;\">\n",
       "      <th></th>\n",
       "      <th>description</th>\n",
       "    </tr>\n",
       "  </thead>\n",
       "  <tbody>\n",
       "    <tr>\n",
       "      <th>count</th>\n",
       "      <td>2999087.000</td>\n",
       "    </tr>\n",
       "    <tr>\n",
       "      <th>mean</th>\n",
       "      <td>0.020</td>\n",
       "    </tr>\n",
       "    <tr>\n",
       "      <th>std</th>\n",
       "      <td>0.052</td>\n",
       "    </tr>\n",
       "    <tr>\n",
       "      <th>min</th>\n",
       "      <td>-0.309</td>\n",
       "    </tr>\n",
       "    <tr>\n",
       "      <th>25%</th>\n",
       "      <td>-0.014</td>\n",
       "    </tr>\n",
       "    <tr>\n",
       "      <th>50%</th>\n",
       "      <td>0.020</td>\n",
       "    </tr>\n",
       "    <tr>\n",
       "      <th>75%</th>\n",
       "      <td>0.055</td>\n",
       "    </tr>\n",
       "    <tr>\n",
       "      <th>max</th>\n",
       "      <td>0.351</td>\n",
       "    </tr>\n",
       "    <tr>\n",
       "      <th>skewness</th>\n",
       "      <td>0.051</td>\n",
       "    </tr>\n",
       "    <tr>\n",
       "      <th>kurtosis</th>\n",
       "      <td>0.190</td>\n",
       "    </tr>\n",
       "  </tbody>\n",
       "</table>\n",
       "</div>"
      ],
      "text/plain": [
       "          description\n",
       "count     2999087.000\n",
       "mean            0.020\n",
       "std             0.052\n",
       "min            -0.309\n",
       "25%            -0.014\n",
       "50%             0.020\n",
       "75%             0.055\n",
       "max             0.351\n",
       "skewness        0.051\n",
       "kurtosis        0.190"
      ]
     },
     "execution_count": 35,
     "metadata": {},
     "output_type": "execute_result"
    }
   ],
   "source": [
    "describe(alpha_matrix)"
   ]
  },
  {
   "cell_type": "code",
   "execution_count": 64,
   "id": "daaaec18",
   "metadata": {},
   "outputs": [
    {
     "data": {
      "text/plain": [
       "count       2999087.000\n",
       "mean              0.020\n",
       "std               0.052\n",
       "min              -0.309\n",
       "25%              -0.014\n",
       "50%               0.020\n",
       "75%               0.055\n",
       "max               0.351\n",
       "skewness          0.051\n",
       "kurtosis          0.190\n",
       "Name: description, dtype: float64"
      ]
     },
     "execution_count": 64,
     "metadata": {},
     "output_type": "execute_result"
    }
   ],
   "source": [
    "describe(alpha_matrix)['description']"
   ]
  },
  {
   "cell_type": "code",
   "execution_count": 67,
   "id": "3c445475",
   "metadata": {},
   "outputs": [
    {
     "data": {
      "text/html": [
       "<div>\n",
       "<style scoped>\n",
       "    .dataframe tbody tr th:only-of-type {\n",
       "        vertical-align: middle;\n",
       "    }\n",
       "\n",
       "    .dataframe tbody tr th {\n",
       "        vertical-align: top;\n",
       "    }\n",
       "\n",
       "    .dataframe thead th {\n",
       "        text-align: right;\n",
       "    }\n",
       "</style>\n",
       "<table border=\"1\" class=\"dataframe\">\n",
       "  <thead>\n",
       "    <tr style=\"text-align: right;\">\n",
       "      <th></th>\n",
       "      <th>Average Return</th>\n",
       "      <th>Beta</th>\n",
       "      <th>Alpha</th>\n",
       "      <th>CAPM Return</th>\n",
       "    </tr>\n",
       "  </thead>\n",
       "  <tbody>\n",
       "    <tr>\n",
       "      <th>count</th>\n",
       "      <td>2999087.000</td>\n",
       "      <td>2999087.000</td>\n",
       "      <td>2999087.000</td>\n",
       "      <td>2999087.000</td>\n",
       "    </tr>\n",
       "    <tr>\n",
       "      <th>mean</th>\n",
       "      <td>0.018</td>\n",
       "      <td>0.981</td>\n",
       "      <td>0.020</td>\n",
       "      <td>-0.003</td>\n",
       "    </tr>\n",
       "    <tr>\n",
       "      <th>std</th>\n",
       "      <td>0.053</td>\n",
       "      <td>0.087</td>\n",
       "      <td>0.052</td>\n",
       "      <td>0.002</td>\n",
       "    </tr>\n",
       "    <tr>\n",
       "      <th>min</th>\n",
       "      <td>-0.321</td>\n",
       "      <td>0.519</td>\n",
       "      <td>-0.309</td>\n",
       "      <td>-0.016</td>\n",
       "    </tr>\n",
       "    <tr>\n",
       "      <th>25%</th>\n",
       "      <td>-0.017</td>\n",
       "      <td>0.923</td>\n",
       "      <td>-0.014</td>\n",
       "      <td>-0.004</td>\n",
       "    </tr>\n",
       "    <tr>\n",
       "      <th>50%</th>\n",
       "      <td>0.017</td>\n",
       "      <td>0.981</td>\n",
       "      <td>0.020</td>\n",
       "      <td>-0.003</td>\n",
       "    </tr>\n",
       "    <tr>\n",
       "      <th>75%</th>\n",
       "      <td>0.053</td>\n",
       "      <td>1.039</td>\n",
       "      <td>0.055</td>\n",
       "      <td>-0.001</td>\n",
       "    </tr>\n",
       "    <tr>\n",
       "      <th>max</th>\n",
       "      <td>0.355</td>\n",
       "      <td>1.449</td>\n",
       "      <td>0.351</td>\n",
       "      <td>0.010</td>\n",
       "    </tr>\n",
       "    <tr>\n",
       "      <th>skewness</th>\n",
       "      <td>0.054</td>\n",
       "      <td>0.041</td>\n",
       "      <td>0.051</td>\n",
       "      <td>-0.041</td>\n",
       "    </tr>\n",
       "    <tr>\n",
       "      <th>kurtosis</th>\n",
       "      <td>0.191</td>\n",
       "      <td>0.152</td>\n",
       "      <td>0.190</td>\n",
       "      <td>0.152</td>\n",
       "    </tr>\n",
       "  </tbody>\n",
       "</table>\n",
       "</div>"
      ],
      "text/plain": [
       "          Average Return         Beta        Alpha  CAPM Return\n",
       "count        2999087.000  2999087.000  2999087.000  2999087.000\n",
       "mean               0.018        0.981        0.020       -0.003\n",
       "std                0.053        0.087        0.052        0.002\n",
       "min               -0.321        0.519       -0.309       -0.016\n",
       "25%               -0.017        0.923       -0.014       -0.004\n",
       "50%                0.017        0.981        0.020       -0.003\n",
       "75%                0.053        1.039        0.055       -0.001\n",
       "max                0.355        1.449        0.351        0.010\n",
       "skewness           0.054        0.041        0.051       -0.041\n",
       "kurtosis           0.191        0.152        0.190        0.152"
      ]
     },
     "execution_count": 67,
     "metadata": {},
     "output_type": "execute_result"
    }
   ],
   "source": [
    "pd.DataFrame(data = (describe(return_matrix)['description'],describe(beta_matrix)['description'],describe(alpha_matrix)['description'],describe(capm_matrix)['description']),\n",
    "             index = ['Average Return', 'Beta', 'Alpha', 'CAPM Return']\n",
    "            ).transpose()\n"
   ]
  },
  {
   "cell_type": "code",
   "execution_count": 42,
   "id": "2e2fa3e3",
   "metadata": {},
   "outputs": [
    {
     "data": {
      "image/png": "[encoded data removed]",
      "text/plain": [
       "<Figure size 432x288 with 1 Axes>"
      ]
     },
     "metadata": {
      "needs_background": "light"
     },
     "output_type": "display_data"
    }
   ],
   "source": [
    "plt.hist(alpha_matrix, bins=50)\n",
    "plt.show()"
   ]
  },
  {
   "cell_type": "code",
   "execution_count": 44,
   "id": "30784fbf",
   "metadata": {},
   "outputs": [
    {
     "name": "stdout",
     "output_type": "stream",
     "text": [
      "'Best' portfolio founded over 2999087 portfolios studied\n",
      "Alpha: 0.351\n",
      "Beta: 0.732\n"
     ]
    },
    {
     "data": {
      "text/plain": [
       "<function matplotlib.pyplot.show(close=None, block=None)>"
      ]
     },
     "execution_count": 44,
     "metadata": {},
     "output_type": "execute_result"
    },
    {
     "data": {
      "image/png": "[encoded data removed]",
      "text/plain": [
       "<Figure size 576x576 with 1 Axes>"
      ]
     },
     "metadata": {},
     "output_type": "display_data"
    }
   ],
   "source": [
    "# Look up for the best portfolio\n",
    "max_alpha = max(alpha_matrix)\n",
    "id_best_alpha = list(np.where(alpha_matrix == max_alpha)[0])[0]\n",
    "weight_best_portfolio = weight_matrix[id_best_alpha]\n",
    "best_portfolio = {}\n",
    "\n",
    "# Compute the DataFrame of best portfolio\n",
    "for weight, ticker in zip(weight_best_portfolio, index):\n",
    "    best_portfolio[ticker] = weight\n",
    "best_portfolio = {key: round(value*100,3) for key, value in best_portfolio.items() if value != 0}\n",
    "\n",
    "name_asset_best_portfolio = [keys for keys, values in name_dict.items() if values in best_portfolio.keys()]\n",
    "\n",
    "df_best_portfolio = pd.DataFrame(data = (best_portfolio.items()),\n",
    "                              index = (name_asset_best_portfolio),\n",
    "                              columns = ['Ticker','Weight (%)'])\n",
    "alpha = max_alpha\n",
    "beta = beta_matrix[id_best_alpha]\n",
    "\n",
    "# Print results\n",
    "print(\n",
    "    f\"\"\"'Best' portfolio founded over {len(weight_matrix)} portfolios studied\n",
    "Alpha: {round(alpha,3)}\n",
    "Beta: {round(beta,3)}\"\"\"\n",
    ")\n",
    "\n",
    "# Plot the best portfolio founded\n",
    "fig = plt.figure(figsize=(8,8))\n",
    "fig = plt.title(\"'Best' portfolio\", fontsize=16)\n",
    "plt.pie(df_best_portfolio['Weight (%)'], labels=df_best_portfolio.index, autopct='%1.2f%%')\n",
    "plt.show"
   ]
  },
  {
   "cell_type": "code",
   "execution_count": 48,
   "id": "cfe4606a",
   "metadata": {},
   "outputs": [
    {
     "name": "stdout",
     "output_type": "stream",
     "text": [
      "'Less' risk portfolio founded over 2999087 portfolios studied\n",
      "Alpha: 0.109\n",
      "Beta: 0.519\n"
     ]
    },
    {
     "data": {
      "text/plain": [
       "<function matplotlib.pyplot.show(close=None, block=None)>"
      ]
     },
     "execution_count": 48,
     "metadata": {},
     "output_type": "execute_result"
    },
    {
     "data": {
      "image/png": "[encoded data removed]",
      "text/plain": [
       "<Figure size 576x576 with 1 Axes>"
      ]
     },
     "metadata": {},
     "output_type": "display_data"
    }
   ],
   "source": [
    "# Look up for the best portfolio\n",
    "max_alpha = min(beta_matrix)\n",
    "id_best_alpha = list(np.where(beta_matrix == max_alpha)[0])[0]\n",
    "weight_best_portfolio = weight_matrix[id_best_alpha]\n",
    "best_portfolio = {}\n",
    "\n",
    "# Compute the DataFrame of best portfolio\n",
    "for weight, ticker in zip(weight_best_portfolio, index):\n",
    "    best_portfolio[ticker] = weight\n",
    "best_portfolio = {key: round(value*100,3) for key, value in best_portfolio.items() if value != 0}\n",
    "\n",
    "name_asset_best_portfolio = [keys for keys, values in name_dict.items() if values in best_portfolio.keys()]\n",
    "\n",
    "df_best_portfolio = pd.DataFrame(data = (best_portfolio.items()),\n",
    "                              index = (name_asset_best_portfolio),\n",
    "                              columns = ['Ticker','Weight (%)'])\n",
    "alpha = alpha_matrix[id_best_alpha]\n",
    "beta = beta_matrix[id_best_alpha]\n",
    "\n",
    "# Print results\n",
    "print(\n",
    "    f\"\"\"'Less' risk portfolio founded over {len(weight_matrix)} portfolios studied\n",
    "Alpha: {round(alpha,3)}\n",
    "Beta: {round(beta,3)}\"\"\"\n",
    ")\n",
    "\n",
    "# Plot the best portfolio founded\n",
    "fig = plt.figure(figsize=(8,8))\n",
    "fig = plt.title(\"'Less' risk portfolio\", fontsize=16)\n",
    "plt.pie(df_best_portfolio['Weight (%)'], labels=df_best_portfolio.index, autopct='%1.2f%%')\n",
    "plt.show"
   ]
  },
  {
   "cell_type": "code",
   "execution_count": null,
   "id": "d2b0d505",
   "metadata": {},
   "outputs": [],
   "source": []
  }
 ],
 "metadata": {
  "kernelspec": {
   "display_name": "Python 3 (ipykernel)",
   "language": "python",
   "name": "python3"
  },
  "language_info": {
   "codemirror_mode": {
    "name": "ipython",
    "version": 3
   },
   "file_extension": ".py",
   "mimetype": "text/x-python",
   "name": "python",
   "nbconvert_exporter": "python",
   "pygments_lexer": "ipython3",
   "version": "3.9.7"
  }
 },
 "nbformat": 4,
 "nbformat_minor": 5
}
